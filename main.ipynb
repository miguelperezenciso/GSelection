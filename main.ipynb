{
 "cells": [
  {
   "cell_type": "markdown",
   "metadata": {},
   "source": [
    "### Python Genomic Selection functions\n",
    "#### Miguel Perez-Enciso (miguel.perez@uab.es)\n",
    "A simple set of functions to illustrate genomic prediction in python\n",
    "\n",
    "#### NOTE: The functions correct only for the mean, i.e., the phenotypes must be precorrected\n",
    "\n",
    "#### Inputs are:\n",
    "        \n",
    "- a nsnp x nind genotype file coded as 0, 1, 2 for each genotype.\n",
    "- a pedigree and phenotypes file, with inds coded as integers 1,2.. nind, \n",
    "0 for unknwon parents, followed by phenotype values:\n",
    "\n",
    "           id   id_father   id_mother   y1   y2 ...\n"
   ]
  },
  {
   "cell_type": "code",
   "execution_count": 2,
   "metadata": {},
   "outputs": [],
   "source": [
    "# generic modules\n",
    "import numpy as np\n",
    "import pandas as pd\n",
    "import os\n",
    "import matplotlib.pyplot as plt\n",
    "\n",
    "# specific modules\n",
    "import gselection as gs\n",
    "\n",
    "#--> folders\n",
    "cdir = os.getcwd()\n",
    "# input file dir\n",
    "ddir= cdir + '/toy/'\n",
    "# pedigree and phenotype file\n",
    "pedfile = ddir + '/toy.pedy'\n",
    "\n",
    "# genotypes file \n",
    "xfile = ddir + 'toy.gen'\n",
    "\n",
    "# set Tranpose=True if nind x nsnp matrix\n",
    "Transpose = False\n",
    "# ploidy\n",
    "ploidy = 2"
   ]
  },
  {
   "cell_type": "code",
   "execution_count": 26,
   "metadata": {},
   "outputs": [
    {
     "name": "stdout",
     "output_type": "stream",
     "text": [
      "N markers read: 10\n",
      "N inds read: 8\n",
      "If you have a nind x nsnp matrix, set Transpose to True\n",
      "X is:\n",
      " [[0. 0. 0. 1. 1. 1. 0. 2.]\n",
      " [0. 0. 0. 1. 1. 1. 0. 2.]\n",
      " [1. 2. 0. 1. 1. 1. 0. 2.]\n",
      " [0. 2. 2. 1. 1. 1. 2. 2.]\n",
      " [0. 2. 0. 2. 1. 1. 0. 2.]\n",
      " [0. 0. 1. 0. 1. 1. 0. 2.]\n",
      " [2. 1. 0. 1. 1. 1. 0. 0.]\n",
      " [0. 0. 2. 0. 1. 1. 2. 2.]\n",
      " [1. 0. 0. 1. 0. 1. 0. 0.]\n",
      " [1. 0. 1. 1. 1. 1. 0. 2.]]\n"
     ]
    }
   ],
   "source": [
    "# STEP 1: uploads genotypes\n",
    "X = np.array(pd.read_csv(xfile, header=None, comment='#', sep='\\s+'),dtype=float)\n",
    "nind = X.shape[1]\n",
    "print('N markers read: ' + str(X.shape[0]))\n",
    "print('N inds read: ' + str(nind))\n",
    "print('If you have a nind x nsnp matrix, set Transpose to True')\n",
    "print('X is:\\n',X)\n",
    "\n",
    "if Transpose is True: X = X.T"
   ]
  },
  {
   "cell_type": "code",
   "execution_count": 27,
   "metadata": {},
   "outputs": [
    {
     "name": "stdout",
     "output_type": "stream",
     "text": [
      "N inds read: 10\n",
      "N traits read: 1\n",
      "ped is:\n",
      " [[1 0 0]\n",
      " [2 0 0]\n",
      " [3 0 0]\n",
      " [4 0 0]\n",
      " [5 4 3]\n",
      " [6 4 3]\n",
      " [7 2 1]\n",
      " [8 4 1]]\n",
      "\n",
      "y is:\n",
      " [[2.3]\n",
      " [3.4]\n",
      " [3.5]\n",
      " [4.3]\n",
      " [1.3]\n",
      " [1.1]\n",
      " [2.7]\n",
      " [2.9]]\n"
     ]
    }
   ],
   "source": [
    "# STEP 2: uploads pedigree and phenotypes\n",
    "ped = np.array(pd.read_csv(pedfile, header=None, comment='#', sep='\\s+'))\n",
    "y = ped[:,3:]\n",
    "ped = np.array(ped[:,:3], int)\n",
    "ntrait = y.shape[1]\n",
    "print('N inds read: ' + str(X.shape[0]))\n",
    "print('N traits read: ' + str(ntrait))\n",
    "print('ped is:\\n',ped)\n",
    "print('\\ny is:\\n',y)"
   ]
  },
  {
   "cell_type": "code",
   "execution_count": 5,
   "metadata": {},
   "outputs": [
    {
     "data": {
      "image/png": "[encoded data removed]",
      "text/plain": [
       "<Figure size 432x288 with 1 Axes>"
      ]
     },
     "metadata": {
      "needs_background": "light"
     },
     "output_type": "display_data"
    }
   ],
   "source": [
    "# STEP 3: PCA plot\n",
    "pca = gs.Pca(X)\n",
    "pca.fit()\n",
    "pca.plot()"
   ]
  },
  {
   "cell_type": "code",
   "execution_count": 16,
   "metadata": {},
   "outputs": [
    {
     "data": {
      "image/png": "[encoded data removed]",
      "text/plain": [
       "<Figure size 432x288 with 1 Axes>"
      ]
     },
     "metadata": {
      "needs_background": "light"
     },
     "output_type": "display_data"
    },
    {
     "data": {
      "image/png": "[encoded data removed]",
      "text/plain": [
       "<Figure size 432x288 with 1 Axes>"
      ]
     },
     "metadata": {
      "needs_background": "light"
     },
     "output_type": "display_data"
    },
    {
     "name": "stdout",
     "output_type": "stream",
     "text": [
      "#SNP COEFF SE PVALUE FDR\n",
      "1 -0.7416666666666668 0.9300462951440164 0.4613637093663693 0.8754395547701918\n",
      "2 -0.7416666666666668 0.9300462951440164 0.4613637093663693 0.8754395547701918\n",
      "3 -0.05000000000000016 0.764525996941896 0.9503898759973927 0.9503898759973927\n",
      "4 0.5791666666666667 0.6483927779089187 0.4126553441444354 0.8754395547701918\n",
      "5 0.38235294117647056 0.5611407067158505 0.5259009634930365 0.8754395547701918\n",
      "6 -1.2083333333333335 0.8264297375525103 0.20356361216204283 0.8754395547701918\n",
      "7 -0.4350000000000002 0.7396992632144499 0.5820376513858482 0.8754395547701918\n",
      "8 -0.2352941176470587 0.5771004961867231 0.7003516438161534 0.8754395547701918\n",
      "9 -0.15833333333333352 0.9848787291393348 0.8785726108213591 0.9503898759973927\n",
      "10 -0.55 1.053328059058525 0.6238619184502217 0.8754395547701918\n"
     ]
    }
   ],
   "source": [
    "# STEP 4: GWAS plot for first trait\n",
    "# trait to be analyzed\n",
    "itrait = 0\n",
    "# individuals without missing phenotypes (here all but last )\n",
    "yids = np.arange(nind-1, dtype=int)\n",
    "gwas = gs.GWAS(X=X[:,yids])\n",
    "gwas.fit(y=y[yids,itrait])\n",
    "gwas.plot() # pvalue\n",
    "gwas.plot(fdr=True) # FDR\n",
    "gwas.print() # prints gwas results"
   ]
  },
  {
   "cell_type": "code",
   "execution_count": 5,
   "metadata": {
    "scrolled": true
   },
   "outputs": [
    {
     "name": "stdout",
     "output_type": "stream",
     "text": [
      "[[ 2.   0.5  0.   0.5  0.   0.  -1.  -1. ]\n",
      " [ 0.5  1.5  0.   0.   0.   0.  -1.   0. ]\n",
      " [ 0.   0.   2.   1.  -1.  -1.   0.   0. ]\n",
      " [ 0.5  0.   1.   2.5 -1.  -1.   0.  -1. ]\n",
      " [ 0.   0.  -1.  -1.   2.   0.   0.   0. ]\n",
      " [ 0.   0.  -1.  -1.   0.   2.   0.   0. ]\n",
      " [-1.  -1.   0.   0.   0.   0.   2.   0. ]\n",
      " [-1.   0.   0.  -1.   0.   0.   0.   2. ]]\n"
     ]
    }
   ],
   "source": [
    "# STEP 5: Obtain inverse NRM (w/o inbreeding)\n",
    "AI = gs.doAInverse(ped)\n",
    "print(AI)"
   ]
  },
  {
   "cell_type": "code",
   "execution_count": 6,
   "metadata": {},
   "outputs": [
    {
     "name": "stdout",
     "output_type": "stream",
     "text": [
      "Check A is inverse: AI x A =\n",
      "[[ 1.00000000e+00 -1.11022302e-16 -1.94253862e-17  0.00000000e+00\n",
      "   2.14299067e-18  3.24218004e-17  2.22044605e-16 -1.11022302e-16]\n",
      " [-6.05576195e-17  1.00000000e+00  6.47512874e-18  6.32042588e-18\n",
      "  -7.14330225e-19 -1.08072668e-17  2.22044605e-16  3.92524916e-17]\n",
      " [ 1.52286962e-17  1.40001855e-18  1.00000000e+00  1.11022302e-16\n",
      "  -2.22044605e-16 -1.11022302e-16 -2.80003711e-18 -9.21911840e-18]\n",
      " [ 0.00000000e+00  1.30540964e-17 -5.55111512e-17  1.00000000e+00\n",
      "   0.00000000e+00 -1.11022302e-16 -2.61081927e-17  0.00000000e+00]\n",
      " [ 2.77555756e-17  4.75190324e-18 -1.66533454e-16 -2.77555756e-16\n",
      "   1.00000000e+00 -1.11022302e-16 -9.50380647e-18  0.00000000e+00]\n",
      " [ 2.77555756e-17  1.11022302e-17  0.00000000e+00 -1.11022302e-16\n",
      "  -1.11022302e-16  1.00000000e+00 -2.22044605e-17  0.00000000e+00]\n",
      " [-5.55111512e-17 -2.22044605e-16  3.85185989e-34  0.00000000e+00\n",
      "   0.00000000e+00 -2.64815367e-34  1.00000000e+00  0.00000000e+00]\n",
      " [ 1.11022302e-16 -4.99600361e-17 -5.55111512e-17 -2.77555756e-17\n",
      "   0.00000000e+00  2.62686698e-17  1.07321559e-16  1.00000000e+00]]\n"
     ]
    }
   ],
   "source": [
    "# Actually, the quickest way to obtain NRM could be by inverting the inverse\n",
    "from numpy.linalg import inv\n",
    "A = inv(AI)\n",
    "print('Check A is inverse: AI x A =')\n",
    "# @ is shorthand for matrix multiplication\n",
    "print(A @ AI)"
   ]
  },
  {
   "cell_type": "code",
   "execution_count": 17,
   "metadata": {},
   "outputs": [],
   "source": [
    "# STEP 6: Predicting Breeding Values for first trait\n",
    "itrait = 0\n",
    "h2 = 0.3    # assumed h2\n",
    "\n",
    "# BLUP evaluation when last individual has no phenotypes\n",
    "# yids contains order of phenotyped individuals (0 is first individual)\n",
    "# phenotyped individuals (all but last 1)\n",
    "yids = np.arange(nind-1, dtype=int)\n",
    "ebv_blup1 = gs.doEbv0(criterion='blup', X=X, y=y[:,itrait], yIds=yids, h2=h2, ped=ped)\n",
    "\n",
    "# GBLUP, all individuals phenotyped\n",
    "ebv_gblup = gs.doEbv0(criterion='gblup', X=X, y=y[:,itrait], h2=h2, nh=ploidy)\n",
    "\n",
    "# Single Step evaluation assuming only last half of population is genotyped \n",
    "#    and all inds phenotyped but last one\n",
    "# mkrids contains order of genotyped individuals\n",
    "mkrids = np.arange(nind//2,nind, dtype=np.int)\n",
    "Xss = X[:,mkrids]\n",
    "ebv_sstep05 = gs.doEbv0(criterion='sstep', X=Xss, y=y[:,itrait],  \n",
    "                        yIds=yids, mkrIds=mkrids, h2=h2, nh=ploidy, ped=ped)\n"
   ]
  },
  {
   "cell_type": "code",
   "execution_count": 18,
   "metadata": {},
   "outputs": [
    {
     "data": {
      "image/png": "[encoded data removed]",
      "text/plain": [
       "<Figure size 432x288 with 1 Axes>"
      ]
     },
     "metadata": {
      "needs_background": "light"
     },
     "output_type": "display_data"
    },
    {
     "data": {
      "image/png": "[encoded data removed]",
      "text/plain": [
       "<Figure size 432x288 with 1 Axes>"
      ]
     },
     "metadata": {
      "needs_background": "light"
     },
     "output_type": "display_data"
    }
   ],
   "source": [
    "# Some plots\n",
    "# plots\n",
    "plt.scatter(ebv_sstep05, ebv_blup1)\n",
    "plt.title('SStep vs BLUP EBV')\n",
    "plt.xlabel('Single Step')\n",
    "plt.ylabel('BLUP')\n",
    "plt.show()\n",
    "plt.close()\n",
    "\n",
    "# plots\n",
    "plt.scatter(ebv_sstep05, ebv_gblup)\n",
    "plt.title('SStep vs GBLUP EBV')\n",
    "plt.xlabel('Single Step')\n",
    "plt.ylabel('GBLUP')\n",
    "plt.show()\n",
    "plt.close()\n"
   ]
  }
 ],
 "metadata": {
  "kernelspec": {
   "display_name": "Python 3",
   "language": "python",
   "name": "python3"
  },
  "language_info": {
   "codemirror_mode": {
    "name": "ipython",
    "version": 3
   },
   "file_extension": ".py",
   "mimetype": "text/x-python",
   "name": "python",
   "nbconvert_exporter": "python",
   "pygments_lexer": "ipython3",
   "version": "3.7.1"
  }
 },
 "nbformat": 4,
 "nbformat_minor": 2
}
