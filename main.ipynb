{
 "cells": [
  {
   "cell_type": "markdown",
   "metadata": {},
   "source": [
    "### Python Genomic Selection functions\n",
    "#### Miguel Perez-Enciso (miguel.perez@uab.es)\n",
    "A simple set of functions to illustrate genomic selection in python"
   ]
  },
  {
   "cell_type": "code",
   "execution_count": 12,
   "metadata": {},
   "outputs": [],
   "source": [
    "# generic modules\n",
    "import numpy as np\n",
    "import pandas as pd\n",
    "import matplotlib.pyplot as plt\n",
    "\n",
    "# specific modules\n",
    "import gselection as gs\n",
    "\n",
    "# input file dir\n",
    "ddir='/home/miguel/PycharmProjects/gs/toy/'\n",
    "\n",
    "# pedigree and phenotype file\n",
    "pedfile = ddir + '/toy.pedy'\n",
    "\n",
    "# genotypes file \n",
    "xfile = ddir + 'toy.gen'\n",
    "Transpose = False\n",
    "ploidy = 2 # set ploidy"
   ]
  },
  {
   "cell_type": "code",
   "execution_count": 38,
   "metadata": {},
   "outputs": [
    {
     "name": "stdout",
     "output_type": "stream",
     "text": [
      "N markers read: 10\n",
      "N inds read: 8\n",
      "If you have a nind x nsnp matrix, set Transpose to True\n"
     ]
    }
   ],
   "source": [
    "# STEP 1: uploads genotypes\n",
    "X = np.array(pd.read_csv(xfile, header=None, comment='#', sep='\\s+'),dtype=float)\n",
    "nind = X.shape[1]\n",
    "print('N markers read: ' + str(X.shape[0]))\n",
    "print('N inds read: ' + str(nind))\n",
    "print('If you have a nind x nsnp matrix, set Transpose to True')\n",
    "\n",
    "if Transpose is True: X = X.T"
   ]
  },
  {
   "cell_type": "code",
   "execution_count": 3,
   "metadata": {},
   "outputs": [
    {
     "name": "stdout",
     "output_type": "stream",
     "text": [
      "N inds read: 10\n",
      "N traits read: 1\n"
     ]
    }
   ],
   "source": [
    "# STEP 2: uploads pedigree and phenotypes\n",
    "ped = np.array(pd.read_csv(pedfile, header=None, comment='#', sep='\\s+'))\n",
    "y = ped[:,3:]\n",
    "ped = np.array(ped[:,:3], int)\n",
    "ntrait = y.shape[1]\n",
    "print('N inds read: ' + str(X.shape[0]))\n",
    "print('N traits read: ' + str(ntrait))"
   ]
  },
  {
   "cell_type": "code",
   "execution_count": 4,
   "metadata": {},
   "outputs": [
    {
     "data": {
      "image/png": "[encoded data removed]",
      "text/plain": [
       "<Figure size 432x288 with 1 Axes>"
      ]
     },
     "metadata": {
      "needs_background": "light"
     },
     "output_type": "display_data"
    }
   ],
   "source": [
    "# STEP 3: PCA plot\n",
    "pca = gs.Pca(X)\n",
    "pca.fit()\n",
    "pca.plot()"
   ]
  },
  {
   "cell_type": "code",
   "execution_count": 5,
   "metadata": {},
   "outputs": [
    {
     "data": {
      "image/png": "[encoded data removed]",
      "text/plain": [
       "<Figure size 432x288 with 1 Axes>"
      ]
     },
     "metadata": {
      "needs_background": "light"
     },
     "output_type": "display_data"
    },
    {
     "data": {
      "image/png": "[encoded data removed]",
      "text/plain": [
       "<Figure size 432x288 with 1 Axes>"
      ]
     },
     "metadata": {
      "needs_background": "light"
     },
     "output_type": "display_data"
    },
    {
     "name": "stdout",
     "output_type": "stream",
     "text": [
      "#SNP COEFF SE PVALUE FDR\n",
      "1 -0.24193548387096775 0.5932210411030221 0.6975493055139498 0.9219696891660317\n",
      "2 -0.24193548387096775 0.5932210411030221 0.6975493055139498 0.9219696891660317\n",
      "3 0.02499999999999991 0.5918280296392413 0.967676418492773 0.967676418492773\n",
      "4 0.5516129032258065 0.5576323766596886 0.3607612193352147 0.9219696891660317\n",
      "5 0.3499999999999999 0.461692237558985 0.47711216720996774 0.9219696891660317\n",
      "6 -0.4483870967741935 0.5728509130431771 0.4635499847602761 0.9219696891660317\n",
      "7 -0.4071428571428572 0.6105645876123659 0.5296740972872283 0.9219696891660317\n",
      "8 -0.1499999999999999 0.47940211606634453 0.7649546315292042 0.9219696891660317\n",
      "9 -0.19333333333333347 0.8609383339210858 0.8297727202494286 0.9219696891660317\n",
      "10 -0.17826086956521753 0.6943829000243675 0.8059723073700266 0.9219696891660317\n"
     ]
    }
   ],
   "source": [
    "# STEP 4: GWAS plot for first trait\n",
    "itrait = 0\n",
    "gwas = gs.GWAS(X=X)\n",
    "gwas.fit(y=y[:,itrait])\n",
    "gwas.plot() # pvalue\n",
    "gwas.plot(fdr=True) # FDR\n",
    "gwas.print() # prints gwas results"
   ]
  },
  {
   "cell_type": "code",
   "execution_count": 6,
   "metadata": {},
   "outputs": [
    {
     "name": "stdout",
     "output_type": "stream",
     "text": [
      "[[ 2.   0.5  0.   0.5  0.   0.  -1.  -1. ]\n",
      " [ 0.5  1.5  0.   0.   0.   0.  -1.   0. ]\n",
      " [ 0.   0.   2.   1.  -1.  -1.   0.   0. ]\n",
      " [ 0.5  0.   1.   2.5 -1.  -1.   0.  -1. ]\n",
      " [ 0.   0.  -1.  -1.   2.   0.   0.   0. ]\n",
      " [ 0.   0.  -1.  -1.   0.   2.   0.   0. ]\n",
      " [-1.  -1.   0.   0.   0.   0.   2.   0. ]\n",
      " [-1.   0.   0.  -1.   0.   0.   0.   2. ]]\n"
     ]
    }
   ],
   "source": [
    "# STEP 5: Obtain inverse NRM\n",
    "AI = gs.doAInverse(ped)\n",
    "print(AI)"
   ]
  },
  {
   "cell_type": "code",
   "execution_count": 44,
   "metadata": {},
   "outputs": [],
   "source": [
    "# STEP 6: Predicting Breeding Values for first trait\n",
    "itrait = 0\n",
    "h2 = 0.3    # assumed h2\n",
    "\n",
    "# BLUP evaluation when last 10 individuals have no phenotypes\n",
    "# phenotyped individuals (all but last 10)\n",
    "yids = np.arange(nind-10, dtype=np.int)\n",
    "ebv_blup10 = gs.doEbv0(criterion='blup', X=X, y=y[:,itrait], yIds=yids, h2=h2, ped=ped)\n",
    "\n",
    "# GBLUP, all individuals phenotyped\n",
    "ebv_gblup = gs.doEbv0(criterion='gblup', X=X, y=y[:,itrait], h2=h2, nh=ploidy)\n",
    "\n",
    "# Single Step evaluation assuming only last half of population is genotyped and all inds phenotyped but last 10 ones\n",
    "mkrids = np.arange(nind//2,nind, dtype=np.int)\n",
    "Xss = X[:,mkrids]\n",
    "ebv_sstep05 = gs.doEbv0(criterion='sstep', X=Xss,y=y[:,itrait],  \n",
    "                        yIds=yids, mkrIds=mkrids, h2=h2, nh=ploidy, ped=ped)\n"
   ]
  },
  {
   "cell_type": "code",
   "execution_count": 15,
   "metadata": {},
   "outputs": [
    {
     "data": {
      "image/png": "[encoded data removed]",
      "text/plain": [
       "<Figure size 432x288 with 1 Axes>"
      ]
     },
     "metadata": {
      "needs_background": "light"
     },
     "output_type": "display_data"
    },
    {
     "data": {
      "image/png": "[encoded data removed]",
      "text/plain": [
       "<Figure size 432x288 with 1 Axes>"
      ]
     },
     "metadata": {
      "needs_background": "light"
     },
     "output_type": "display_data"
    }
   ],
   "source": [
    "# Some plots\n",
    "# plots\n",
    "plt.scatter(ebv_sstep05, ebv_blup10)\n",
    "plt.title('SStep vs BLUP EBV')\n",
    "plt.xlabel('Single Step')\n",
    "plt.ylabel('BLUP')\n",
    "plt.show()\n",
    "plt.close()\n",
    "\n",
    "# plots\n",
    "plt.scatter(ebv_sstep05, ebv_gblup)\n",
    "plt.title('SStep vs GBLUP EBV')\n",
    "plt.xlabel('Single Step')\n",
    "plt.ylabel('GBLUP')\n",
    "plt.show()\n",
    "plt.close()\n"
   ]
  }
 ],
 "metadata": {
  "kernelspec": {
   "display_name": "Python 3",
   "language": "python",
   "name": "python3"
  },
  "language_info": {
   "codemirror_mode": {
    "name": "ipython",
    "version": 3
   },
   "file_extension": ".py",
   "mimetype": "text/x-python",
   "name": "python",
   "nbconvert_exporter": "python",
   "pygments_lexer": "ipython3",
   "version": "3.7.1"
  }
 },
 "nbformat": 4,
 "nbformat_minor": 2
}
